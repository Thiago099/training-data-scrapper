{
 "cells": [
  {
   "cell_type": "code",
   "execution_count": 1,
   "metadata": {},
   "outputs": [
    {
     "name": "stdout",
     "output_type": "stream",
     "text": [
      "itens found: 100\n",
      "itens found: 189\n",
      "itens found: 286\n",
      "itens found: 384\n",
      "itens found: 458\n",
      "itens found: 533\n",
      "itens found: 610\n",
      "itens found: 687\n",
      "itens found: 780\n",
      "itens found: 844\n"
     ]
    }
   ],
   "source": [
    "#pip install selenium\n",
    "import time\n",
    "from selenium import webdriver\n",
    "from selenium.webdriver.common.by import By\n",
    "from selenium.webdriver.support.ui import WebDriverWait\n",
    "from selenium.webdriver.support import expected_conditions as EC\n",
    "from selenium.common.exceptions import TimeoutException\n",
    "\n",
    "ANIMAL = 'penguin'\n",
    "\n",
    "chrome_options = webdriver.ChromeOptions()\n",
    "chrome_options.add_argument('headless')\n",
    "chrome_options.add_argument('window-size=1920x1080')\n",
    "chrome_options.add_argument(\"disable-gpu\")\n",
    "driver = webdriver.Chrome('chromedriver', options = chrome_options)\n",
    "driver.get(f'https://duckduckgo.com/?q={ANIMAL}&iax=images&ia=images')\n",
    "# try:\n",
    "#     element = WebDriverWait(driver, 10).until(\n",
    "#         EC.presence_of_all_elements_located((By.CSS_SELECTOR, \".tile--img__img\"))\n",
    "#     )\n",
    "#     print([i.get_attribute('src') for i in element])\n",
    "# finally:\n",
    "#     driver.quit()\n",
    "old = 0\n",
    "length = -1\n",
    "while True:\n",
    "    try:\n",
    "        driver.execute_script(\"window.scrollTo(0, document.body.scrollHeight);\")\n",
    "        driver.implicitly_wait(30)\n",
    "        time.sleep(4)\n",
    "        element = WebDriverWait(driver, 30).until(EC.presence_of_all_elements_located((By.CSS_SELECTOR, \".tile--img__img\")))\n",
    "        old = length\n",
    "        length = len(element)\n",
    "        \n",
    "        if length == old:\n",
    "            links = [i.get_attribute('src') for i in element]\n",
    "            break\n",
    "        else:\n",
    "            print(f'itens found: {length}')\n",
    "    except TimeoutException:\n",
    "            print(\"Loading took too much time!\")\n",
    "driver.quit()"
   ]
  },
  {
   "cell_type": "code",
   "execution_count": 14,
   "metadata": {},
   "outputs": [
    {
     "name": "stderr",
     "output_type": "stream",
     "text": [
      "100%|██████████| 844/844 [02:34<00:00,  5.47it/s]\n"
     ]
    }
   ],
   "source": [
    "import requests\n",
    "import numpy as np\n",
    "from tqdm import tqdm\n",
    "from PIL import Image\n",
    "import cv2\n",
    "import os\n",
    "\n",
    "\n",
    "PATH = f'animals/{ANIMAL}'\n",
    "path = ''\n",
    "for d in PATH.split('/'):\n",
    "   # handle instances of // in string\n",
    "   if not d: continue \n",
    "\n",
    "   path += d + '/'\n",
    "   if not os.path.isdir(path):\n",
    "      os.mkdir(path)\n",
    "   \n",
    "\n",
    "def resize(img, size):\n",
    "    img = np.array(img)\n",
    "    if(img.shape[1]<img.shape[0]):\n",
    "        w = int(img.shape[1]*size/img.shape[0])\n",
    "        h = size\n",
    "    else:\n",
    "        w = size\n",
    "        h = int(img.shape[0]*size/img.shape[1])\n",
    "    return cv2.resize(img,(w,h))\n",
    "key = 0\n",
    "for link in tqdm(links):\n",
    "    with Image.open(requests.get(link, stream = True).raw) as image:\n",
    "             cv2.imwrite(os.path.join(f'{PATH}/{key}.jpg'), cv2.cvtColor(resize(image, 500), cv2.cv2.COLOR_BGR2RGB))\n",
    "    key += 1"
   ]
  }
 ],
 "metadata": {
  "interpreter": {
   "hash": "f0d9a7cd1f0e24e1e06e6e11ca7ef582e03455e211f245ad365318db042b07ed"
  },
  "kernelspec": {
   "display_name": "Python 3.9.9 64-bit (windows store)",
   "language": "python",
   "name": "python3"
  },
  "language_info": {
   "codemirror_mode": {
    "name": "ipython",
    "version": 3
   },
   "file_extension": ".py",
   "mimetype": "text/x-python",
   "name": "python",
   "nbconvert_exporter": "python",
   "pygments_lexer": "ipython3",
   "version": "3.9.9"
  },
  "orig_nbformat": 4
 },
 "nbformat": 4,
 "nbformat_minor": 2
}
